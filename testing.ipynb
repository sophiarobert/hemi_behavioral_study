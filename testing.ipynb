{
 "cells": [
  {
   "cell_type": "code",
   "execution_count": 1,
   "metadata": {
    "collapsed": true
   },
   "outputs": [],
   "source": [
    "import pandas as pd\n",
    "import matplotlib.pyplot as plt\n",
    "import numpy as np\n",
    "from scipy.stats import norm"
   ]
  },
  {
   "cell_type": "code",
   "execution_count": 2,
   "outputs": [],
   "source": [
    "outputData = pd.read_csv('./ConfFeatData/sophie_configural_featural_2020-10-30_18h41.42.132.csv')\n",
    "outputData2 = pd.read_csv('./ConfFeatData/sophie_configural_featural_2020_Oct_30_1935.csv')\n",
    "outputData3 = pd.read_csv('./ConfFeatData/mb_configural_featural_2020-10-27_19h53.55.535.csv')\n"
   ],
   "metadata": {
    "collapsed": false,
    "pycharm": {
     "name": "#%%\n"
    }
   }
  },
  {
   "cell_type": "markdown",
   "source": [],
   "metadata": {
    "collapsed": false
   }
  },
  {
   "cell_type": "code",
   "execution_count": 3,
   "outputs": [
    {
     "name": "stdout",
     "output_type": "stream",
     "text": [
      "[19, 15]\n",
      "[5, 9]\n",
      "[9, 20]\n",
      "[15, 4]\n",
      "[21, 22]\n",
      "[3, 2]\n",
      "[20, 22]\n",
      "[4, 2]\n",
      "[37, 32]\n",
      "[11, 17]\n",
      "[35, 34]\n",
      "[11, 13]\n",
      "[37, 45]\n",
      "[12, 3]\n",
      "[39, 39]\n",
      "[10, 9]\n",
      "[9, 11]\n",
      "[15, 13]\n",
      "[11, 13]\n",
      "[13, 11]\n",
      "[12, 8]\n",
      "[12, 16]\n",
      "[13, 11]\n",
      "[11, 13]\n"
     ]
    },
    {
     "name": "stderr",
     "output_type": "stream",
     "text": [
      "<ipython-input-3-3eac9f65f534>:59: SettingWithCopyWarning: \n",
      "A value is trying to be set on a copy of a slice from a DataFrame.\n",
      "Try using .loc[row_indexer,col_indexer] = value instead\n",
      "\n",
      "See the caveats in the documentation: https://pandas.pydata.org/pandas-docs/stable/user_guide/indexing.html#returning-a-view-versus-a-copy\n",
      "  iCond['key_resp.corr2'] = corr_resps\n"
     ]
    }
   ],
   "source": [
    "# first need to fill in block type for each row\n",
    "startRow = 12\n",
    "trialsPerBlock = 48\n",
    "outputData.loc[startRow:trialsPerBlock+startRow, 'Block_type'] = outputData.loc[trialsPerBlock+startRow, 'Block_type']\n",
    "outputData.loc[trialsPerBlock+1+startRow:trialsPerBlock*2+1+startRow, 'Block_type'] = outputData.loc[trialsPerBlock*2+1+startRow, 'Block_type']\n",
    "outputData.loc[trialsPerBlock*2+2+startRow:trialsPerBlock*3+2+startRow, 'Block_type'] = outputData.loc[trialsPerBlock*3+2+startRow, 'Block_type']\n",
    "outputData.loc[trialsPerBlock*3+3+startRow:trialsPerBlock*4+3+startRow, 'Block_type'] = outputData.loc[trialsPerBlock*4+3+startRow, 'Block_type']\n",
    "\n",
    "startRow = 15\n",
    "trialsPerBlock = 48\n",
    "outputData2.loc[startRow:trialsPerBlock+startRow, 'Block_type'] = outputData2.loc[trialsPerBlock+startRow, 'Block_type']\n",
    "outputData2.loc[trialsPerBlock+1+startRow:trialsPerBlock*2+1+startRow, 'Block_type'] = outputData2.loc[trialsPerBlock*2+1+startRow, 'Block_type']\n",
    "outputData2.loc[trialsPerBlock*2+2+startRow:trialsPerBlock*3+2+startRow, 'Block_type'] = outputData2.loc[trialsPerBlock*3+2+startRow, 'Block_type']\n",
    "outputData2.loc[trialsPerBlock*3+3+startRow:trialsPerBlock*4+3+startRow, 'Block_type'] = outputData2.loc[trialsPerBlock*4+3+startRow, 'Block_type']\n",
    "\n",
    "\n",
    "startRow = 0\n",
    "trialsPerBlock = 48\n",
    "outputData3.loc[startRow:trialsPerBlock+startRow, 'Block_type'] = outputData3.loc[trialsPerBlock+startRow, 'Block_type']\n",
    "outputData3.loc[trialsPerBlock+1+startRow:trialsPerBlock*2+1+startRow, 'Block_type'] = outputData3.loc[trialsPerBlock*2+1+startRow, 'Block_type']\n",
    "outputData3.loc[trialsPerBlock*2+2+startRow:trialsPerBlock*3+2+startRow, 'Block_type'] = outputData3.loc[trialsPerBlock*3+2+startRow, 'Block_type']\n",
    "outputData3.loc[trialsPerBlock*3+3+startRow:trialsPerBlock*4+3+startRow, 'Block_type'] = outputData3.loc[trialsPerBlock*4+3+startRow, 'Block_type']\n",
    "\n",
    "respData = outputData.loc[:, ['Block_type', 'trial_type1S0D', 'side', 'key_resp.corr', 'key_resp.rt', 'key_resp.keys']]\n",
    "respData = respData.dropna()\n",
    "\n",
    "conf_haus = respData.loc[respData['Block_type'].str.contains('conf_haus'), :]\n",
    "conf_face = respData.loc[respData['Block_type'].str.contains('conf_face'), :]\n",
    "feat_haus = respData.loc[respData['Block_type'].str.contains('feat_haus'), :]\n",
    "feat_face = respData.loc[respData['Block_type'].str.contains('feat_face'), :]\n",
    "\n",
    "respData2 = outputData2.loc[:, ['Block_type', 'trial_type1S0D', 'side', 'key_resp.corr', 'key_resp.rt', 'key_resp.keys']]\n",
    "respData2 = respData2.dropna()\n",
    "\n",
    "conf_haus2 = respData2.loc[respData2['Block_type'].str.contains('conf_haus'), :]\n",
    "conf_face2 = respData2.loc[respData2['Block_type'].str.contains('conf_face'), :]\n",
    "feat_haus2 = respData2.loc[respData2['Block_type'].str.contains('feat_haus'), :]\n",
    "feat_face2 = respData2.loc[respData2['Block_type'].str.contains('feat_face'), :]\n",
    "\n",
    "respData3 = outputData3.loc[:, ['Block_type', 'trial_type1S0D', 'side', 'key_resp.corr', 'key_resp.rt', 'key_resp.keys']]\n",
    "respData3 = respData3.dropna()\n",
    "\n",
    "conf_haus3 = respData3.loc[respData3['Block_type'].str.contains('conf_haus'), :]\n",
    "conf_face3 = respData3.loc[respData3['Block_type'].str.contains('conf_face'), :]\n",
    "feat_haus3 = respData3.loc[respData3['Block_type'].str.contains('feat_haus'), :]\n",
    "feat_face3 = respData3.loc[respData3['Block_type'].str.contains('feat_face'), :]\n",
    "\n",
    "conditions = [conf_haus, conf_face, feat_haus, feat_face, conf_haus2, conf_face2, feat_haus2, feat_face2, conf_haus3, conf_face3, feat_haus3, feat_face3]\n",
    "for iCond in conditions:\n",
    "    corr_resps = []\n",
    "    for iRow in range(0, len(iCond)):\n",
    "        if iCond['trial_type1S0D'].iloc[iRow] == 1:\n",
    "            corr_resps.append(int(iCond['key_resp.keys'].iloc[iRow] == 'f'))\n",
    "        elif iCond['trial_type1S0D'].iloc[iRow] == 0:\n",
    "            corr_resps.append(int(iCond['key_resp.keys'].iloc[iRow] == 'j'))\n",
    "        else:\n",
    "            print('Error: not same or different?')\n",
    "\n",
    "    iCond['key_resp.corr2'] = corr_resps\n",
    "\n",
    "\n",
    "z_hit = []\n",
    "z_fal = []\n",
    "for iCond in conditions:\n",
    "    hits = []\n",
    "    false_alarms = []\n",
    "    hits.append(len(iCond[(iCond['trial_type1S0D'] == 1) & (iCond['key_resp.keys'] == 'f')]))\n",
    "    hits.append(len(iCond[(iCond['trial_type1S0D'] == 0) & (iCond['key_resp.keys'] == 'j')]))\n",
    "    false_alarms.append(len(iCond[(iCond['trial_type1S0D'] == 1) & (iCond['key_resp.keys'] == 'j')]))\n",
    "    false_alarms.append(len(iCond[(iCond['trial_type1S0D'] == 0) & (iCond['key_resp.keys'] == 'f')]))\n",
    "    print(hits)\n",
    "    print(false_alarms)\n",
    "    z_hit.append(norm.cdf(np.sum(hits)/trialsPerBlock))\n",
    "    z_fal.append(norm.cdf(np.sum(false_alarms)/trialsPerBlock))\n",
    "\n",
    "d_primes = np.array(z_hit) - np.array(z_fal)\n",
    "\n",
    "\n",
    "\n",
    "cond_accuracy_means = [np.concatenate((np.array(conf_haus['key_resp.corr2']), np.array(conf_haus2['key_resp.corr2']))).mean(),\n",
    "                       np.concatenate((np.array(conf_face['key_resp.corr2']), np.array(conf_face2['key_resp.corr2']))).mean(),\n",
    "                       np.concatenate((np.array(feat_haus['key_resp.corr2']), np.array(feat_haus2['key_resp.corr2']))).mean(),\n",
    "                       np.concatenate((np.array(feat_face['key_resp.corr2']), np.array(feat_face2['key_resp.corr2']))).mean()]\n",
    "\n",
    "cond_accuracy_stds = [np.concatenate((np.array(conf_haus['key_resp.corr2']), np.array(conf_haus2['key_resp.corr2']))).std(),\n",
    "                      np.concatenate((np.array(conf_face['key_resp.corr2']), np.array(conf_face2['key_resp.corr2']))).std(),\n",
    "                      np.concatenate((np.array(feat_haus['key_resp.corr2']), np.array(feat_haus2['key_resp.corr2']))).std(),\n",
    "                      np.concatenate((np.array(feat_face['key_resp.corr2']), np.array(feat_face2['key_resp.corr2']))).std()]\n",
    "\n",
    "\n",
    "cond_accuracy_means = [np.concatenate((np.array(conf_haus['key_resp.corr2']), np.array(conf_face['key_resp.corr2']))).mean(),\n",
    "                       np.concatenate((np.array(feat_haus['key_resp.corr2']), np.array(feat_face['key_resp.corr2']))).mean(),\n",
    "                       np.concatenate((np.array(conf_haus2['key_resp.corr2']), np.array(conf_face2['key_resp.corr2']))).mean(),\n",
    "                       np.concatenate((np.array(feat_haus2['key_resp.corr2']), np.array(feat_face2['key_resp.corr2']))).mean(),\n",
    "                       np.concatenate((np.array(conf_haus3['key_resp.corr2']), np.array(conf_face3['key_resp.corr2']))).mean(),\n",
    "                       np.concatenate((np.array(feat_haus3['key_resp.corr2']), np.array(feat_face3['key_resp.corr2']))).mean()]\n",
    "\n",
    "cond_accuracy_stds = [np.concatenate((np.array(conf_haus['key_resp.corr2']), np.array(conf_face['key_resp.corr2']))).std(),\n",
    "                       np.concatenate((np.array(feat_haus['key_resp.corr2']), np.array(feat_face['key_resp.corr2']))).std(),\n",
    "                       np.concatenate((np.array(conf_haus2['key_resp.corr2']), np.array(conf_face2['key_resp.corr2']))).std(),\n",
    "                       np.concatenate((np.array(feat_haus2['key_resp.corr2']), np.array(feat_face2['key_resp.corr2']))).std(),\n",
    "                       np.concatenate((np.array(conf_haus3['key_resp.corr2']), np.array(conf_face3['key_resp.corr2']))).std(),\n",
    "                       np.concatenate((np.array(feat_haus3['key_resp.corr2']), np.array(feat_face3['key_resp.corr2']))).std()]\n",
    "\n",
    "cond_accuracy_means = [conf_haus['key_resp.corr2'].mean(),\n",
    "                       conf_face['key_resp.corr2'].mean(),\n",
    "                       feat_haus['key_resp.corr2'].mean(),\n",
    "                       feat_face['key_resp.corr2'].mean(),\n",
    "                       conf_haus2['key_resp.corr2'].mean(),\n",
    "                       conf_face2['key_resp.corr2'].mean(),\n",
    "                       feat_haus2['key_resp.corr2'].mean(),\n",
    "                       feat_face2['key_resp.corr2'].mean(),\n",
    "                       conf_haus3['key_resp.corr2'].mean(),\n",
    "                       conf_face3['key_resp.corr2'].mean(),\n",
    "                       feat_haus3['key_resp.corr2'].mean(),\n",
    "                       feat_face3['key_resp.corr2'].mean()]\n",
    "\n",
    "cond_accuracy_stds = [conf_haus['key_resp.corr2'].std(),\n",
    "                       conf_face['key_resp.corr2'].std(),\n",
    "                       feat_haus['key_resp.corr2'].std(),\n",
    "                       feat_face['key_resp.corr2'].std(),\n",
    "                       conf_haus2['key_resp.corr2'].std(),\n",
    "                       conf_face2['key_resp.corr2'].std(),\n",
    "                       feat_haus2['key_resp.corr2'].std(),\n",
    "                       feat_face2['key_resp.corr2'].std(),\n",
    "                       conf_haus3['key_resp.corr2'].std(),\n",
    "                       conf_face3['key_resp.corr2'].std(),\n",
    "                       feat_haus3['key_resp.corr2'].std(),\n",
    "                       feat_face3['key_resp.corr2'].std()]\n",
    "\n",
    "cond_RT_means = [conf_haus2['key_resp.rt'].mean(),\n",
    "                 conf_face2['key_resp.rt'].mean(),\n",
    "                 feat_haus2['key_resp.rt'].mean(),\n",
    "                 feat_face2['key_resp.rt'].mean()]\n",
    "\n",
    "cond_RT_stds = [conf_haus2['key_resp.rt'].std(),\n",
    "                conf_face2['key_resp.rt'].std(),\n",
    "                feat_haus2['key_resp.rt'].std(),\n",
    "                feat_face2['key_resp.rt'].std()]"
   ],
   "metadata": {
    "collapsed": false,
    "pycharm": {
     "name": "#%%\n"
    }
   }
  },
  {
   "cell_type": "code",
   "execution_count": 4,
   "outputs": [
    {
     "ename": "ValueError",
     "evalue": "shape mismatch: objects cannot be broadcast to a single shape",
     "output_type": "error",
     "traceback": [
      "\u001B[0;31m---------------------------------------------------------------------------\u001B[0m",
      "\u001B[0;31mValueError\u001B[0m                                Traceback (most recent call last)",
      "\u001B[0;32m<ipython-input-4-9bcc3b419818>\u001B[0m in \u001B[0;36m<module>\u001B[0;34m\u001B[0m\n\u001B[0;32m----> 1\u001B[0;31m plt.bar(['conf1', 'feat1', 'conf2', 'feat2', 'conf3', 'feat3'],\n\u001B[0m\u001B[1;32m      2\u001B[0m         \u001B[0mcond_accuracy_means\u001B[0m\u001B[0;34m,\u001B[0m\u001B[0;34m\u001B[0m\u001B[0;34m\u001B[0m\u001B[0m\n\u001B[1;32m      3\u001B[0m         \u001B[0mcolor\u001B[0m\u001B[0;34m=\u001B[0m\u001B[0;34m'grey'\u001B[0m\u001B[0;34m,\u001B[0m\u001B[0;34m\u001B[0m\u001B[0;34m\u001B[0m\u001B[0m\n\u001B[1;32m      4\u001B[0m         yerr=cond_accuracy_stds)\n\u001B[1;32m      5\u001B[0m \u001B[0mplt\u001B[0m\u001B[0;34m.\u001B[0m\u001B[0mshow\u001B[0m\u001B[0;34m(\u001B[0m\u001B[0;34m)\u001B[0m\u001B[0;34m\u001B[0m\u001B[0;34m\u001B[0m\u001B[0m\n",
      "\u001B[0;32m~/anaconda3/envs/gen_env/lib/python3.8/site-packages/matplotlib/pyplot.py\u001B[0m in \u001B[0;36mbar\u001B[0;34m(x, height, width, bottom, align, data, **kwargs)\u001B[0m\n\u001B[1;32m   2469\u001B[0m         \u001B[0mx\u001B[0m\u001B[0;34m,\u001B[0m \u001B[0mheight\u001B[0m\u001B[0;34m,\u001B[0m \u001B[0mwidth\u001B[0m\u001B[0;34m=\u001B[0m\u001B[0;36m0.8\u001B[0m\u001B[0;34m,\u001B[0m \u001B[0mbottom\u001B[0m\u001B[0;34m=\u001B[0m\u001B[0;32mNone\u001B[0m\u001B[0;34m,\u001B[0m \u001B[0;34m*\u001B[0m\u001B[0;34m,\u001B[0m \u001B[0malign\u001B[0m\u001B[0;34m=\u001B[0m\u001B[0;34m'center'\u001B[0m\u001B[0;34m,\u001B[0m\u001B[0;34m\u001B[0m\u001B[0;34m\u001B[0m\u001B[0m\n\u001B[1;32m   2470\u001B[0m         data=None, **kwargs):\n\u001B[0;32m-> 2471\u001B[0;31m     return gca().bar(\n\u001B[0m\u001B[1;32m   2472\u001B[0m         \u001B[0mx\u001B[0m\u001B[0;34m,\u001B[0m \u001B[0mheight\u001B[0m\u001B[0;34m,\u001B[0m \u001B[0mwidth\u001B[0m\u001B[0;34m=\u001B[0m\u001B[0mwidth\u001B[0m\u001B[0;34m,\u001B[0m \u001B[0mbottom\u001B[0m\u001B[0;34m=\u001B[0m\u001B[0mbottom\u001B[0m\u001B[0;34m,\u001B[0m \u001B[0malign\u001B[0m\u001B[0;34m=\u001B[0m\u001B[0malign\u001B[0m\u001B[0;34m,\u001B[0m\u001B[0;34m\u001B[0m\u001B[0;34m\u001B[0m\u001B[0m\n\u001B[1;32m   2473\u001B[0m         **({\"data\": data} if data is not None else {}), **kwargs)\n",
      "\u001B[0;32m~/anaconda3/envs/gen_env/lib/python3.8/site-packages/matplotlib/__init__.py\u001B[0m in \u001B[0;36minner\u001B[0;34m(ax, data, *args, **kwargs)\u001B[0m\n\u001B[1;32m   1436\u001B[0m     \u001B[0;32mdef\u001B[0m \u001B[0minner\u001B[0m\u001B[0;34m(\u001B[0m\u001B[0max\u001B[0m\u001B[0;34m,\u001B[0m \u001B[0;34m*\u001B[0m\u001B[0margs\u001B[0m\u001B[0;34m,\u001B[0m \u001B[0mdata\u001B[0m\u001B[0;34m=\u001B[0m\u001B[0;32mNone\u001B[0m\u001B[0;34m,\u001B[0m \u001B[0;34m**\u001B[0m\u001B[0mkwargs\u001B[0m\u001B[0;34m)\u001B[0m\u001B[0;34m:\u001B[0m\u001B[0;34m\u001B[0m\u001B[0;34m\u001B[0m\u001B[0m\n\u001B[1;32m   1437\u001B[0m         \u001B[0;32mif\u001B[0m \u001B[0mdata\u001B[0m \u001B[0;32mis\u001B[0m \u001B[0;32mNone\u001B[0m\u001B[0;34m:\u001B[0m\u001B[0;34m\u001B[0m\u001B[0;34m\u001B[0m\u001B[0m\n\u001B[0;32m-> 1438\u001B[0;31m             \u001B[0;32mreturn\u001B[0m \u001B[0mfunc\u001B[0m\u001B[0;34m(\u001B[0m\u001B[0max\u001B[0m\u001B[0;34m,\u001B[0m \u001B[0;34m*\u001B[0m\u001B[0mmap\u001B[0m\u001B[0;34m(\u001B[0m\u001B[0msanitize_sequence\u001B[0m\u001B[0;34m,\u001B[0m \u001B[0margs\u001B[0m\u001B[0;34m)\u001B[0m\u001B[0;34m,\u001B[0m \u001B[0;34m**\u001B[0m\u001B[0mkwargs\u001B[0m\u001B[0;34m)\u001B[0m\u001B[0;34m\u001B[0m\u001B[0;34m\u001B[0m\u001B[0m\n\u001B[0m\u001B[1;32m   1439\u001B[0m \u001B[0;34m\u001B[0m\u001B[0m\n\u001B[1;32m   1440\u001B[0m         \u001B[0mbound\u001B[0m \u001B[0;34m=\u001B[0m \u001B[0mnew_sig\u001B[0m\u001B[0;34m.\u001B[0m\u001B[0mbind\u001B[0m\u001B[0;34m(\u001B[0m\u001B[0max\u001B[0m\u001B[0;34m,\u001B[0m \u001B[0;34m*\u001B[0m\u001B[0margs\u001B[0m\u001B[0;34m,\u001B[0m \u001B[0;34m**\u001B[0m\u001B[0mkwargs\u001B[0m\u001B[0;34m)\u001B[0m\u001B[0;34m\u001B[0m\u001B[0;34m\u001B[0m\u001B[0m\n",
      "\u001B[0;32m~/anaconda3/envs/gen_env/lib/python3.8/site-packages/matplotlib/axes/_axes.py\u001B[0m in \u001B[0;36mbar\u001B[0;34m(self, x, height, width, bottom, align, **kwargs)\u001B[0m\n\u001B[1;32m   2428\u001B[0m                 \u001B[0myerr\u001B[0m \u001B[0;34m=\u001B[0m \u001B[0mself\u001B[0m\u001B[0;34m.\u001B[0m\u001B[0m_convert_dx\u001B[0m\u001B[0;34m(\u001B[0m\u001B[0myerr\u001B[0m\u001B[0;34m,\u001B[0m \u001B[0my0\u001B[0m\u001B[0;34m,\u001B[0m \u001B[0my\u001B[0m\u001B[0;34m,\u001B[0m \u001B[0mself\u001B[0m\u001B[0;34m.\u001B[0m\u001B[0mconvert_yunits\u001B[0m\u001B[0;34m)\u001B[0m\u001B[0;34m\u001B[0m\u001B[0;34m\u001B[0m\u001B[0m\n\u001B[1;32m   2429\u001B[0m \u001B[0;34m\u001B[0m\u001B[0m\n\u001B[0;32m-> 2430\u001B[0;31m         x, height, width, y, linewidth = np.broadcast_arrays(\n\u001B[0m\u001B[1;32m   2431\u001B[0m             \u001B[0;31m# Make args iterable too.\u001B[0m\u001B[0;34m\u001B[0m\u001B[0;34m\u001B[0m\u001B[0;34m\u001B[0m\u001B[0m\n\u001B[1;32m   2432\u001B[0m             np.atleast_1d(x), height, width, y, linewidth)\n",
      "\u001B[0;32m<__array_function__ internals>\u001B[0m in \u001B[0;36mbroadcast_arrays\u001B[0;34m(*args, **kwargs)\u001B[0m\n",
      "\u001B[0;32m~/anaconda3/envs/gen_env/lib/python3.8/site-packages/numpy/lib/stride_tricks.py\u001B[0m in \u001B[0;36mbroadcast_arrays\u001B[0;34m(subok, *args)\u001B[0m\n\u001B[1;32m    256\u001B[0m     \u001B[0margs\u001B[0m \u001B[0;34m=\u001B[0m \u001B[0;34m[\u001B[0m\u001B[0mnp\u001B[0m\u001B[0;34m.\u001B[0m\u001B[0marray\u001B[0m\u001B[0;34m(\u001B[0m\u001B[0m_m\u001B[0m\u001B[0;34m,\u001B[0m \u001B[0mcopy\u001B[0m\u001B[0;34m=\u001B[0m\u001B[0;32mFalse\u001B[0m\u001B[0;34m,\u001B[0m \u001B[0msubok\u001B[0m\u001B[0;34m=\u001B[0m\u001B[0msubok\u001B[0m\u001B[0;34m)\u001B[0m \u001B[0;32mfor\u001B[0m \u001B[0m_m\u001B[0m \u001B[0;32min\u001B[0m \u001B[0margs\u001B[0m\u001B[0;34m]\u001B[0m\u001B[0;34m\u001B[0m\u001B[0;34m\u001B[0m\u001B[0m\n\u001B[1;32m    257\u001B[0m \u001B[0;34m\u001B[0m\u001B[0m\n\u001B[0;32m--> 258\u001B[0;31m     \u001B[0mshape\u001B[0m \u001B[0;34m=\u001B[0m \u001B[0m_broadcast_shape\u001B[0m\u001B[0;34m(\u001B[0m\u001B[0;34m*\u001B[0m\u001B[0margs\u001B[0m\u001B[0;34m)\u001B[0m\u001B[0;34m\u001B[0m\u001B[0;34m\u001B[0m\u001B[0m\n\u001B[0m\u001B[1;32m    259\u001B[0m \u001B[0;34m\u001B[0m\u001B[0m\n\u001B[1;32m    260\u001B[0m     \u001B[0;32mif\u001B[0m \u001B[0mall\u001B[0m\u001B[0;34m(\u001B[0m\u001B[0marray\u001B[0m\u001B[0;34m.\u001B[0m\u001B[0mshape\u001B[0m \u001B[0;34m==\u001B[0m \u001B[0mshape\u001B[0m \u001B[0;32mfor\u001B[0m \u001B[0marray\u001B[0m \u001B[0;32min\u001B[0m \u001B[0margs\u001B[0m\u001B[0;34m)\u001B[0m\u001B[0;34m:\u001B[0m\u001B[0;34m\u001B[0m\u001B[0;34m\u001B[0m\u001B[0m\n",
      "\u001B[0;32m~/anaconda3/envs/gen_env/lib/python3.8/site-packages/numpy/lib/stride_tricks.py\u001B[0m in \u001B[0;36m_broadcast_shape\u001B[0;34m(*args)\u001B[0m\n\u001B[1;32m    187\u001B[0m     \u001B[0;31m# use the old-iterator because np.nditer does not handle size 0 arrays\u001B[0m\u001B[0;34m\u001B[0m\u001B[0;34m\u001B[0m\u001B[0;34m\u001B[0m\u001B[0m\n\u001B[1;32m    188\u001B[0m     \u001B[0;31m# consistently\u001B[0m\u001B[0;34m\u001B[0m\u001B[0;34m\u001B[0m\u001B[0;34m\u001B[0m\u001B[0m\n\u001B[0;32m--> 189\u001B[0;31m     \u001B[0mb\u001B[0m \u001B[0;34m=\u001B[0m \u001B[0mnp\u001B[0m\u001B[0;34m.\u001B[0m\u001B[0mbroadcast\u001B[0m\u001B[0;34m(\u001B[0m\u001B[0;34m*\u001B[0m\u001B[0margs\u001B[0m\u001B[0;34m[\u001B[0m\u001B[0;34m:\u001B[0m\u001B[0;36m32\u001B[0m\u001B[0;34m]\u001B[0m\u001B[0;34m)\u001B[0m\u001B[0;34m\u001B[0m\u001B[0;34m\u001B[0m\u001B[0m\n\u001B[0m\u001B[1;32m    190\u001B[0m     \u001B[0;31m# unfortunately, it cannot handle 32 or more arguments directly\u001B[0m\u001B[0;34m\u001B[0m\u001B[0;34m\u001B[0m\u001B[0;34m\u001B[0m\u001B[0m\n\u001B[1;32m    191\u001B[0m     \u001B[0;32mfor\u001B[0m \u001B[0mpos\u001B[0m \u001B[0;32min\u001B[0m \u001B[0mrange\u001B[0m\u001B[0;34m(\u001B[0m\u001B[0;36m32\u001B[0m\u001B[0;34m,\u001B[0m \u001B[0mlen\u001B[0m\u001B[0;34m(\u001B[0m\u001B[0margs\u001B[0m\u001B[0;34m)\u001B[0m\u001B[0;34m,\u001B[0m \u001B[0;36m31\u001B[0m\u001B[0;34m)\u001B[0m\u001B[0;34m:\u001B[0m\u001B[0;34m\u001B[0m\u001B[0;34m\u001B[0m\u001B[0m\n",
      "\u001B[0;31mValueError\u001B[0m: shape mismatch: objects cannot be broadcast to a single shape"
     ]
    },
    {
     "data": {
      "text/plain": "<Figure size 432x288 with 1 Axes>",
      "image/png": "[encoded data removed]"
     },
     "metadata": {
      "needs_background": "light"
     },
     "output_type": "display_data"
    }
   ],
   "source": [
    "plt.bar(['conf1', 'feat1', 'conf2', 'feat2', 'conf3', 'feat3'],\n",
    "        cond_accuracy_means,\n",
    "        color='grey',\n",
    "        yerr=cond_accuracy_stds)\n",
    "plt.show()\n"
   ],
   "metadata": {
    "collapsed": false,
    "pycharm": {
     "name": "#%%\n"
    }
   }
  }
 ],
 "metadata": {
  "kernelspec": {
   "display_name": "Python 3",
   "language": "python",
   "name": "python3"
  },
  "language_info": {
   "codemirror_mode": {
    "name": "ipython",
    "version": 2
   },
   "file_extension": ".py",
   "mimetype": "text/x-python",
   "name": "python",
   "nbconvert_exporter": "python",
   "pygments_lexer": "ipython2",
   "version": "2.7.6"
  }
 },
 "nbformat": 4,
 "nbformat_minor": 0
}